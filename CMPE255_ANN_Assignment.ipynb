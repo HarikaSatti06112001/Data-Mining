{
  "nbformat": 4,
  "nbformat_minor": 0,
  "metadata": {
    "colab": {
      "provenance": [],
      "include_colab_link": true
    },
    "kernelspec": {
      "name": "python3",
      "display_name": "Python 3"
    },
    "language_info": {
      "name": "python"
    }
  },
  "cells": [
    {
      "cell_type": "markdown",
      "metadata": {
        "id": "view-in-github",
        "colab_type": "text"
      },
      "source": [
        "<a href=\"https://colab.research.google.com/github/HarikaSatti06112001/Data-Mining/blob/main/CMPE255_ANN_Assignment.ipynb\" target=\"_parent\"><img src=\"https://colab.research.google.com/assets/colab-badge.svg\" alt=\"Open In Colab\"/></a>"
      ]
    },
    {
      "cell_type": "markdown",
      "metadata": {
        "id": "lvoECQyaQ7iV"
      },
      "source": [
        "CMPE255_Assignment\n"
      ]
    },
    {
      "cell_type": "markdown",
      "metadata": {
        "id": "1k5asALX9OXi"
      },
      "source": [
        "## LSH"
      ]
    },
    {
      "cell_type": "code",
      "metadata": {
        "colab": {
          "base_uri": "https://localhost:8080/"
        },
        "id": "U3KAqnOSQSwp",
        "outputId": "7b7b5b7d-b0cb-4c6d-c533-31b27050377f"
      },
      "source": [
        "!pip install lshashing"
      ],
      "execution_count": 5,
      "outputs": [
        {
          "output_type": "stream",
          "name": "stdout",
          "text": [
            "Looking in indexes: https://pypi.org/simple, https://us-python.pkg.dev/colab-wheels/public/simple/\n",
            "Requirement already satisfied: lshashing in /usr/local/lib/python3.7/dist-packages (1.1.3)\n",
            "Requirement already satisfied: cython in /usr/local/lib/python3.7/dist-packages (from lshashing) (0.29.32)\n",
            "Requirement already satisfied: joblib in /usr/local/lib/python3.7/dist-packages (from lshashing) (1.2.0)\n",
            "Requirement already satisfied: numpy in /usr/local/lib/python3.7/dist-packages (from lshashing) (1.21.6)\n"
          ]
        }
      ]
    },
    {
      "cell_type": "code",
      "metadata": {
        "colab": {
          "base_uri": "https://localhost:8080/"
        },
        "id": "nAswxrqk0qrH",
        "outputId": "42511b45-8498-452a-8b7d-94d7e9f60ea3"
      },
      "source": [
        "#important libraries\n",
        "import numpy as np\n",
        "from lshashing import LSHRandom\n",
        "\n",
        "# Loading the data\n",
        "lsh_data = np.random.randint(size = (10, 10), low = 0, high = 50)\n",
        "lsh_point = np.random.randint(size = (1,10), low = 0, high = 50)\n",
        "\n",
        "# LSH appropriate nearest neighbor search\n",
        "lshashing = LSHRandom(lsh_data, hash_len = 3, num_tables = 2)\n",
        "\n",
        "# Displaying data\n",
        "print(lshashing.tables[1].hash_table)\n",
        "print(lshashing.knn_search(lsh_data, lsh_point[0], k = 3, buckets = 2, radius = 2))"
      ],
      "execution_count": 7,
      "outputs": [
        {
          "output_type": "stream",
          "name": "stdout",
          "text": [
            "{0: [0, 3, 4, 5, 6, 8, 9], 1: [1], 4: [2], 9: [7]}\n",
            "[[53.66563146  1.        ]\n",
            " [61.7170965   5.        ]\n",
            " [63.4428877   9.        ]]\n"
          ]
        }
      ]
    },
    {
      "cell_type": "code",
      "metadata": {
        "colab": {
          "base_uri": "https://localhost:8080/"
        },
        "id": "TTPI81KO69En",
        "outputId": "787bbd1b-e8a6-4436-d96c-0df1e01097dc"
      },
      "source": [
        "# Loading the data\n",
        "lsh_data = np.random.randint(size = (10, 10), low = 0, high = 50)\n",
        "lsh_point = np.random.randint(size = (1, 10), low = 0, high = 50)\n",
        "\n",
        "# LSH appropriate nearest neighbor search\n",
        "lsh_random_parallel = LSHRandom(lsh_data, 4, parallel = True)\n",
        "lsh_random_parallel.knn_search(lsh_data, lsh_point[0], 5, 2, parallel = True)"
      ],
      "execution_count": 8,
      "outputs": [
        {
          "output_type": "execute_result",
          "data": {
            "text/plain": [
              "[Neighbor(index=8, distance=52.09606511052442, value=[[49 38 21]...]),\n",
              " Neighbor(index=6, distance=58.360945845659494, value=[[40  2 32]...]),\n",
              " Neighbor(index=1, distance=64.35837163881635, value=[[32 14  6]...]),\n",
              " Neighbor(index=0, distance=66.82813778641449, value=[[ 5 35 34]...]),\n",
              " Neighbor(index=7, distance=67.59437846448475, value=[[44 26 35]...])]"
            ]
          },
          "metadata": {},
          "execution_count": 8
        }
      ]
    },
    {
      "cell_type": "markdown",
      "source": [
        "Exhaustive Search"
      ],
      "metadata": {
        "id": "VbMlrk99zXTj"
      }
    },
    {
      "cell_type": "code",
      "metadata": {
        "colab": {
          "base_uri": "https://localhost:8080/"
        },
        "id": "FjEBF66MCPRF",
        "outputId": "4c810662-8bac-41f2-a6ea-1fa0d974a59a"
      },
      "source": [
        "#Exhaustive Search\n",
        "# Compute the squared Euclidean distance\n",
        "def SED(X, Y):\n",
        "    return sum((i-j)**2 for i, j in zip(X, Y))\n",
        "\n",
        "SED( (9, 7), (3, 5) )"
      ],
      "execution_count": 30,
      "outputs": [
        {
          "output_type": "execute_result",
          "data": {
            "text/plain": [
              "40"
            ]
          },
          "metadata": {},
          "execution_count": 30
        }
      ]
    },
    {
      "cell_type": "code",
      "metadata": {
        "colab": {
          "base_uri": "https://localhost:8080/"
        },
        "id": "_VE1SV0xAux8",
        "outputId": "48498d69-a460-4ebb-a60f-1fd9dd4c1a39"
      },
      "source": [
        "# nearest neighbor with the reference points\n",
        "def exhaustive_search(*, es_points, exhaustive_points):\n",
        "    return {\n",
        "        query_p: min(\n",
        "            exhaustive_points,\n",
        "            key=lambda X: SED(X, query_p),\n",
        "        )\n",
        "        for query_p in es_points\n",
        "    }\n",
        "\n",
        "\n",
        "exhaustive_points = [ (2, 3), (1, 5), (3, 4), (5, 10) ]\n",
        "es_points = [\n",
        "    (11, 3), (2, 7), (8, 5), (1, 10), (17, 15), (7, 13), (7, 9)\n",
        "]\n",
        "\n",
        "exhaustive_search(\n",
        "    exhaustive_points = exhaustive_points,\n",
        "    es_points = es_points,\n",
        ")"
      ],
      "execution_count": 31,
      "outputs": [
        {
          "output_type": "execute_result",
          "data": {
            "text/plain": [
              "{(11, 3): (3, 4),\n",
              " (2, 7): (1, 5),\n",
              " (8, 5): (3, 4),\n",
              " (1, 10): (5, 10),\n",
              " (17, 15): (5, 10),\n",
              " (7, 13): (5, 10),\n",
              " (7, 9): (5, 10)}"
            ]
          },
          "metadata": {},
          "execution_count": 31
        }
      ]
    },
    {
      "cell_type": "markdown",
      "source": [
        "Product Quantization"
      ],
      "metadata": {
        "id": "YyxTKpPSzZ-n"
      }
    },
    {
      "cell_type": "code",
      "metadata": {
        "colab": {
          "base_uri": "https://localhost:8080/"
        },
        "id": "i4Sw1LBgKDzn",
        "outputId": "43abad46-bda7-40f9-8909-7a30c85f6452"
      },
      "source": [
        "#Product Quantization\n",
        "!pip install nanopq"
      ],
      "execution_count": 32,
      "outputs": [
        {
          "output_type": "stream",
          "name": "stdout",
          "text": [
            "Looking in indexes: https://pypi.org/simple, https://us-python.pkg.dev/colab-wheels/public/simple/\n",
            "Requirement already satisfied: nanopq in /usr/local/lib/python3.7/dist-packages (0.1.11)\n",
            "Requirement already satisfied: numpy in /usr/local/lib/python3.7/dist-packages (from nanopq) (1.21.6)\n",
            "Requirement already satisfied: scipy in /usr/local/lib/python3.7/dist-packages (from nanopq) (1.7.3)\n"
          ]
        }
      ]
    },
    {
      "cell_type": "code",
      "metadata": {
        "id": "RjfilhRKJv4h"
      },
      "source": [
        "# Import libraries\n",
        "import nanopq\n",
        "import numpy as np\n",
        "\n",
        "# Loading the data\n",
        "value1 = np.random.random((500, 10)).astype(np.float32)\n",
        "value2 = np.random.random((250, 10)).astype(np.float32)\n",
        "pq_query_data = np.random.random((10, )).astype(np.float32)"
      ],
      "execution_count": 33,
      "outputs": []
    },
    {
      "cell_type": "code",
      "metadata": {
        "colab": {
          "base_uri": "https://localhost:8080/"
        },
        "id": "5AUZ-TbHKLqs",
        "outputId": "c22a956b-6aab-49a9-9674-0905702bb5f4"
      },
      "source": [
        "pq_data = nanopq.PQ(M=2, Ks=10, verbose=True)"
      ],
      "execution_count": 34,
      "outputs": [
        {
          "output_type": "stream",
          "name": "stdout",
          "text": [
            "M: 2, Ks: 10, code_dtype: <class 'numpy.uint8'>\n"
          ]
        }
      ]
    },
    {
      "cell_type": "code",
      "metadata": {
        "colab": {
          "base_uri": "https://localhost:8080/"
        },
        "id": "Bb5GwJZVKOlH",
        "outputId": "344f0824-ee72-4344-beef-759ab0529939"
      },
      "source": [
        "pq_data = nanopq.PQ(M=2, Ks=10).fit(vecs=value2, iter=20, seed=123)"
      ],
      "execution_count": 35,
      "outputs": [
        {
          "output_type": "stream",
          "name": "stdout",
          "text": [
            "M: 2, Ks: 10, code_dtype: <class 'numpy.uint8'>\n",
            "iter: 20, seed: 123\n",
            "Training the subspace: 0 / 2\n",
            "Training the subspace: 1 / 2\n"
          ]
        }
      ]
    },
    {
      "cell_type": "code",
      "metadata": {
        "colab": {
          "base_uri": "https://localhost:8080/"
        },
        "id": "5iCgzGGPKSKB",
        "outputId": "1f6c67cc-291a-46bc-d745-cdda051bc1e3"
      },
      "source": [
        "# Vectors encoded to PQ-codes.\n",
        "value1_code = pq_data.encode(vecs=value1)"
      ],
      "execution_count": 36,
      "outputs": [
        {
          "output_type": "stream",
          "name": "stdout",
          "text": [
            "Encoding the subspace: 0 / 2\n",
            "Encoding the subspace: 1 / 2\n"
          ]
        }
      ]
    },
    {
      "cell_type": "code",
      "metadata": {
        "id": "qNr3I8RyKWtS"
      },
      "source": [
        "pq_datatable = pq_data.dtable(query=pq_query_data) \n",
        "new_pq = pq_datatable.adist(codes=value1_code) \n",
        "new_pq = pq_data.dtable(query=pq_query_data).adist(codes=value1_code) \n",
        "min_value = np.argmin(new_pq)"
      ],
      "execution_count": 37,
      "outputs": []
    },
    {
      "cell_type": "code",
      "metadata": {
        "colab": {
          "base_uri": "https://localhost:8080/"
        },
        "id": "2AuPcWi-KkIc",
        "outputId": "07e24867-b3a9-4ca0-9f82-ea4abfe4ab05"
      },
      "source": [
        "# results by PQ\n",
        "print(new_pq[:30])\n",
        "\n",
        "# results by exact scan\n",
        "new_pq_exact = np.linalg.norm(value1 - pq_query_data, axis=1) ** 2\n",
        "print(new_pq_exact[:30])"
      ],
      "execution_count": 38,
      "outputs": [
        {
          "output_type": "stream",
          "name": "stdout",
          "text": [
            "[1.5657753 1.1788459 1.6985219 2.1477566 2.3589149 1.4196291 2.0016105\n",
            " 2.006404  2.2181597 1.6985219 1.6985219 2.7178233 2.250536  2.17564\n",
            " 2.006404  2.5560088 2.6041458 0.9287844 1.4196291 1.9461696 1.9474475\n",
            " 0.6296216 1.8238709 2.467494  1.5313567 2.17564   2.7178233 1.6809732\n",
            " 2.1477566 2.2704003]\n",
            "[2.4165907 1.6422672 1.5660034 2.4318826 2.805343  2.087943  1.7851839\n",
            " 2.7362037 2.7006736 2.5547798 2.2918859 4.0221395 1.9503996 3.3413293\n",
            " 2.676378  3.0376074 2.6648512 1.3932891 1.4521463 2.703215  2.5337808\n",
            " 1.0248097 2.557336  2.747135  2.0924556 1.5734069 2.7561963 2.1583164\n",
            " 2.7194486 2.3297603]\n"
          ]
        }
      ]
    },
    {
      "cell_type": "code",
      "metadata": {
        "colab": {
          "base_uri": "https://localhost:8080/"
        },
        "id": "zN-AN0EEKpvc",
        "outputId": "5a34b741-6824-4e51-a4ae-2abc103a01ac"
      },
      "source": [
        "# Vectors approximately reconstructed by fetching codewords\n",
        "value1_reconstructed = pq_data.decode(codes=value1_code)\n",
        "print(value1[:3])\n",
        "print(value1_reconstructed[:3])"
      ],
      "execution_count": 39,
      "outputs": [
        {
          "output_type": "stream",
          "name": "stdout",
          "text": [
            "[[0.2422198  0.9376684  0.9080111  0.34879732 0.6346381  0.27384222\n",
            "  0.20611513 0.33633953 0.3270999  0.8822761 ]\n",
            " [0.82230383 0.7096232  0.9593452  0.42254335 0.24503304 0.11739844\n",
            "  0.30105335 0.14526373 0.0921861  0.6029322 ]\n",
            " [0.36418745 0.56457037 0.19133572 0.6769059  0.21550545 0.2780236\n",
            "  0.74176043 0.5597379  0.33483642 0.5429888 ]]\n",
            "[[0.51959455 0.771619   0.79991984 0.44911277 0.7566727  0.25094247\n",
            "  0.3246694  0.26181155 0.2943019  0.53498757]\n",
            " [0.6653395  0.6993278  0.7855687  0.6575344  0.23237245 0.25094247\n",
            "  0.3246694  0.26181155 0.2943019  0.53498757]\n",
            " [0.35666847 0.2594796  0.2642518  0.7086582  0.24931538 0.23218478\n",
            "  0.47132704 0.7131341  0.2418168  0.28841886]]\n"
          ]
        }
      ]
    },
    {
      "cell_type": "markdown",
      "metadata": {
        "id": "vrQJi_pNL3Kr"
      },
      "source": [
        "## Trees and Graphs"
      ]
    },
    {
      "cell_type": "code",
      "metadata": {
        "colab": {
          "base_uri": "https://localhost:8080/"
        },
        "id": "lfTt1jkFL62e",
        "outputId": "46f6195e-a974-4fd4-e937-4e83f2f54608"
      },
      "source": [
        "# Importing libraries \n",
        "from sklearn.neighbors import NearestNeighbors\n",
        "import numpy as np\n",
        "\n",
        "# Loading the data\n",
        "data = np.array([[-11, -5], [-8, -10], [-7, -1], [5, 3], [4, 1], [9, 8]])\n",
        "\n",
        "# nearest neighbors with ball tree approach\n",
        "tg_neighbors = NearestNeighbors(n_neighbors=2, algorithm='ball_tree').fit(data)\n",
        "tg_distances, tg_indices = tg_neighbors.kneighbors(data)\n",
        "tg_indices\n",
        "tg_distances"
      ],
      "execution_count": 53,
      "outputs": [
        {
          "output_type": "execute_result",
          "data": {
            "text/plain": [
              "array([[0.        , 5.65685425],\n",
              "       [0.        , 5.83095189],\n",
              "       [0.        , 5.65685425],\n",
              "       [0.        , 2.23606798],\n",
              "       [0.        , 2.23606798],\n",
              "       [0.        , 6.40312424]])"
            ]
          },
          "metadata": {},
          "execution_count": 53
        }
      ]
    },
    {
      "cell_type": "code",
      "metadata": {
        "colab": {
          "base_uri": "https://localhost:8080/"
        },
        "id": "ONyDPTyALfsF",
        "outputId": "632f2496-c275-42c4-f698-e7b676ebe167"
      },
      "source": [
        "tg_neighbors.kneighbors_graph(data).toarray()"
      ],
      "execution_count": 54,
      "outputs": [
        {
          "output_type": "execute_result",
          "data": {
            "text/plain": [
              "array([[1., 0., 1., 0., 0., 0.],\n",
              "       [1., 1., 0., 0., 0., 0.],\n",
              "       [1., 0., 1., 0., 0., 0.],\n",
              "       [0., 0., 0., 1., 1., 0.],\n",
              "       [0., 0., 0., 1., 1., 0.],\n",
              "       [0., 0., 0., 1., 0., 1.]])"
            ]
          },
          "metadata": {},
          "execution_count": 54
        }
      ]
    },
    {
      "cell_type": "markdown",
      "metadata": {
        "id": "Pa6ulsxo_yfW"
      },
      "source": [
        "## HNSW"
      ]
    },
    {
      "cell_type": "code",
      "metadata": {
        "colab": {
          "base_uri": "https://localhost:8080/"
        },
        "id": "IdwaNj1WPleC",
        "outputId": "3a1e19bd-5dd7-4085-e0df-2bcc5528a12f"
      },
      "source": [
        "!pip install n2"
      ],
      "execution_count": 47,
      "outputs": [
        {
          "output_type": "stream",
          "name": "stdout",
          "text": [
            "Looking in indexes: https://pypi.org/simple, https://us-python.pkg.dev/colab-wheels/public/simple/\n",
            "Collecting n2\n",
            "  Downloading n2-0.1.7.tar.gz (8.6 MB)\n",
            "\u001b[K     |████████████████████████████████| 8.6 MB 21.9 MB/s \n",
            "\u001b[?25hRequirement already satisfied: cython in /usr/local/lib/python3.7/dist-packages (from n2) (0.29.32)\n",
            "Building wheels for collected packages: n2\n",
            "  Building wheel for n2 (setup.py) ... \u001b[?25l\u001b[?25hdone\n",
            "  Created wheel for n2: filename=n2-0.1.7-cp37-cp37m-linux_x86_64.whl size=2303099 sha256=a66f1790b6ca964600e2d20a3a2622337cb0e05eb42bd0637b4f2d227870d7ef\n",
            "  Stored in directory: /root/.cache/pip/wheels/36/da/12/b157ca1c9dcdd5fd3fa5e15b7823f805396fb6e6b30427465a\n",
            "Successfully built n2\n",
            "Installing collected packages: n2\n",
            "Successfully installed n2-0.1.7\n"
          ]
        }
      ]
    },
    {
      "cell_type": "code",
      "metadata": {
        "colab": {
          "base_uri": "https://localhost:8080/"
        },
        "id": "wYAgxCURPhiv",
        "outputId": "1ae7f385-52a8-4123-c106-866146699cf3"
      },
      "source": [
        "# Importing Libraries \n",
        "import numpy as np\n",
        "from n2 import HnswIndex\n",
        "\n",
        "# Loading data\n",
        "Values, reference = 20240, 20\n",
        "hnsw_data = np.arange(Values * reference).reshape(Values, reference)\n",
        "\n",
        "# Applying HNSW approach\n",
        "hnsw_index_data = HnswIndex(reference)\n",
        "for data in hnsw_data:\n",
        "    hnsw_index_data.add_data(data)\n",
        "hnsw_index_data.build(m=5, n_threads=3)\n",
        "print(hnsw_index_data.search_by_id(15, 36))"
      ],
      "execution_count": 55,
      "outputs": [
        {
          "output_type": "stream",
          "name": "stdout",
          "text": [
            "[15, 16, 14, 17, 13, 18, 19, 12, 20, 21, 22, 23, 11, 24, 25, 26, 27, 28, 29, 10, 30, 31, 32, 33, 34, 35, 36, 37, 38, 39, 40, 41, 9, 42, 43, 44]\n"
          ]
        }
      ]
    }
  ]
}